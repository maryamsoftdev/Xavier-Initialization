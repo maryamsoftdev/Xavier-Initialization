{
  "nbformat": 4,
  "nbformat_minor": 0,
  "metadata": {
    "colab": {
      "provenance": []
    },
    "kernelspec": {
      "name": "python3",
      "display_name": "Python 3"
    },
    "language_info": {
      "name": "python"
    }
  },
  "cells": [
    {
      "cell_type": "code",
      "execution_count": 1,
      "metadata": {
        "colab": {
          "base_uri": "https://localhost:8080/"
        },
        "id": "tsKfxiEW3aZP",
        "outputId": "21927c23-f145-42f6-e9bf-fc13d0e2fe28"
      },
      "outputs": [
        {
          "output_type": "stream",
          "name": "stdout",
          "text": [
            "Epoch 1/10, Loss: 0.7172\n",
            "Epoch 2/10, Loss: 0.6931\n",
            "Epoch 3/10, Loss: 0.6797\n",
            "Epoch 4/10, Loss: 0.6711\n",
            "Epoch 5/10, Loss: 0.6617\n",
            "Epoch 6/10, Loss: 0.6557\n",
            "Epoch 7/10, Loss: 0.6482\n",
            "Epoch 8/10, Loss: 0.6432\n",
            "Epoch 9/10, Loss: 0.6357\n",
            "Epoch 10/10, Loss: 0.6304\n",
            "Training complete!\n"
          ]
        }
      ],
      "source": [
        "import torch\n",
        "import torch.nn as nn\n",
        "import torch.nn.functional as F\n",
        "import torch.optim as optim\n",
        "\n",
        "# Define a simple neural network with Xavier initialization\n",
        "class SimpleNN(nn.Module):\n",
        "    def __init__(self):\n",
        "        super(SimpleNN, self).__init__()\n",
        "        self.fc1 = nn.Linear(20, 50)\n",
        "        self.fc2 = nn.Linear(50, 50)\n",
        "        self.fc3 = nn.Linear(50, 2)\n",
        "        self._initialize_weights()\n",
        "\n",
        "    def forward(self, x):\n",
        "        x = F.relu(self.fc1(x))\n",
        "        x = F.relu(self.fc2(x))\n",
        "        x = self.fc3(x)\n",
        "        return x\n",
        "\n",
        "    def _initialize_weights(self):\n",
        "        # Apply Xavier initialization to all linear layers\n",
        "        nn.init.xavier_uniform_(self.fc1.weight)\n",
        "        nn.init.xavier_uniform_(self.fc2.weight)\n",
        "        nn.init.xavier_uniform_(self.fc3.weight)\n",
        "\n",
        "# Dummy dataset\n",
        "X = torch.randn(1000, 20)  # 1000 samples, 20 features\n",
        "y = torch.randint(0, 2, (1000,))  # Binary target\n",
        "\n",
        "# Create DataLoader\n",
        "batch_size = 100\n",
        "dataset = torch.utils.data.TensorDataset(X, y)\n",
        "dataloader = torch.utils.data.DataLoader(dataset, batch_size=batch_size, shuffle=True)\n",
        "\n",
        "# Instantiate the model, define loss function and optimizer\n",
        "model = SimpleNN()\n",
        "criterion = nn.CrossEntropyLoss()\n",
        "optimizer = optim.Adam(model.parameters(), lr=0.001)\n",
        "\n",
        "# Training loop\n",
        "num_epochs = 10\n",
        "for epoch in range(num_epochs):\n",
        "    model.train()  # Set the model to training mode\n",
        "    running_loss = 0.0\n",
        "    for inputs, targets in dataloader:\n",
        "        optimizer.zero_grad()\n",
        "        outputs = model(inputs)\n",
        "        loss = criterion(outputs, targets)\n",
        "        loss.backward()\n",
        "        optimizer.step()\n",
        "        running_loss += loss.item()\n",
        "    print(f'Epoch {epoch+1}/{num_epochs}, Loss: {running_loss/len(dataloader):.4f}')\n",
        "\n",
        "print(\"Training complete!\")\n"
      ]
    }
  ]
}